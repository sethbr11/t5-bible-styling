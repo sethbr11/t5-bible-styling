{
 "cells": [
  {
   "cell_type": "markdown",
   "metadata": {},
   "source": [
    "The KJV version of the bible can be retrieved from Kaggle. The other can be retrieved here: https://www.biblesupersearch.com/bible-downloads/, though some adjustments to the CSV may be required."
   ]
  },
  {
   "cell_type": "code",
   "execution_count": 2,
   "metadata": {},
   "outputs": [
    {
     "name": "stderr",
     "output_type": "stream",
     "text": [
      "/Users/sethbrock/Desktop/IS693R/venv/lib/python3.11/site-packages/tqdm/auto.py:21: TqdmWarning: IProgress not found. Please update jupyter and ipywidgets. See https://ipywidgets.readthedocs.io/en/stable/user_install.html\n",
      "  from .autonotebook import tqdm as notebook_tqdm\n"
     ]
    },
    {
     "name": "stdout",
     "output_type": "stream",
     "text": [
      "Downloading from https://www.kaggle.com/api/v1/datasets/download/phyred23/bibleverses?dataset_version_number=1&file_name=bible_data_set.csv...\n"
     ]
    },
    {
     "name": "stderr",
     "output_type": "stream",
     "text": [
      "100%|██████████| 1.41M/1.41M [00:00<00:00, 25.6MB/s]"
     ]
    },
    {
     "name": "stdout",
     "output_type": "stream",
     "text": [
      "Extracting zip of bible_data_set.csv...\n",
      "Path to dataset files: /Users/sethbrock/.cache/kagglehub/datasets/phyred23/bibleverses/versions/1/bible_data_set.csv\n"
     ]
    },
    {
     "name": "stderr",
     "output_type": "stream",
     "text": [
      "\n"
     ]
    }
   ],
   "source": [
    "import kagglehub\n",
    "\n",
    "# Download latest version and save in the current folder\n",
    "path = kagglehub.dataset_download(\"phyred23/bibleverses\", path=\"bible_data_set.csv\")\n",
    "\n",
    "# This will save the dataset in an obscure folder. You will need to find it and move it to the current folder\n",
    "print(\"Path to dataset files:\", path)"
   ]
  },
  {
   "cell_type": "code",
   "execution_count": 16,
   "metadata": {},
   "outputs": [],
   "source": [
    "import pandas as pd\n",
    "\n",
    "# Load KJV and modern translations\n",
    "kjv_df = pd.read_csv(\"data/kjv.csv\")\n",
    "modern_df = pd.read_csv(\"data/web.csv\")\n",
    "\n",
    "# Merge the two dataframes on book, chapter, and verse\n",
    "merged_df = pd.merge(kjv_df, modern_df, on=[\"book\", \"chapter\", \"verse\"], suffixes=(\"_kjv\", \"_modern\"))\n",
    "\n",
    "# Select and rename the text columns\n",
    "merged_df = merged_df[[\"text_kjv\", \"text_modern\"]]\n",
    "merged_df.columns = [\"kjv_text\", \"modern_text\"]\n",
    "\n",
    "merged_df.to_csv(\"data/web_to_kjv.csv\", index=False)\n"
   ]
  },
  {
   "cell_type": "code",
   "execution_count": 17,
   "metadata": {},
   "outputs": [
    {
     "name": "stdout",
     "output_type": "stream",
     "text": [
      "31102 KJV verses\n",
      "31103 WEB verses\n",
      "31100 merged verses\n"
     ]
    }
   ],
   "source": [
    "merged_df = pd.read_csv(\"data/web_to_kjv.csv\")\n",
    "kjv_df = pd.read_csv(\"data/kjv.csv\")\n",
    "modern_df = pd.read_csv(\"data/web.csv\")\n",
    "\n",
    "print(kjv_df.shape[0], \"KJV verses\")\n",
    "print(modern_df.shape[0], \"WEB verses\")\n",
    "print(merged_df.shape[0], \"merged verses\")"
   ]
  }
 ],
 "metadata": {
  "kernelspec": {
   "display_name": "venv",
   "language": "python",
   "name": "python3"
  },
  "language_info": {
   "codemirror_mode": {
    "name": "ipython",
    "version": 3
   },
   "file_extension": ".py",
   "mimetype": "text/x-python",
   "name": "python",
   "nbconvert_exporter": "python",
   "pygments_lexer": "ipython3",
   "version": "3.11.11"
  }
 },
 "nbformat": 4,
 "nbformat_minor": 2
}
