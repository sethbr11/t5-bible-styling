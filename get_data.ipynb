{
 "cells": [
  {
   "cell_type": "code",
   "execution_count": null,
   "metadata": {},
   "outputs": [],
   "source": [
    "import kagglehub\n",
    "\n",
    "# Download latest version and save in the current folder\n",
    "path = kagglehub.dataset_download(\"phyred23/bibleverses\", path=\"bible_data_set.csv\")\n",
    "\n",
    "# This will save the dataset in an obscure folder. You will need to find it and move it to the current folder\n",
    "print(\"Path to dataset files:\", path)"
   ]
  },
  {
   "cell_type": "code",
   "execution_count": 1,
   "metadata": {},
   "outputs": [
    {
     "name": "stderr",
     "output_type": "stream",
     "text": [
      "Processing Bible Chapters: 100%|██████████| 1189/1189 [03:33<00:00,  5.57chapter/s]"
     ]
    },
    {
     "name": "stdout",
     "output_type": "stream",
     "text": [
      "🎉 Done! Saved modern translation to data/web.csv\n"
     ]
    },
    {
     "name": "stderr",
     "output_type": "stream",
     "text": [
      "\n"
     ]
    }
   ],
   "source": [
    "import requests\n",
    "import csv\n",
    "from tqdm import tqdm\n",
    "\n",
    "# List of all books and number of chapters per book in the Bible\n",
    "books_of_bible = {\n",
    "    \"Genesis\": 50,\n",
    "    \"Exodus\": 40,\n",
    "    \"Leviticus\": 27,\n",
    "    \"Numbers\": 36,\n",
    "    \"Deuteronomy\": 34,\n",
    "    \"Joshua\": 24,\n",
    "    \"Judges\": 21,\n",
    "    \"Ruth\": 4,\n",
    "    \"1 Samuel\": 31,\n",
    "    \"2 Samuel\": 24,\n",
    "    \"1 Kings\": 22,\n",
    "    \"2 Kings\": 25,\n",
    "    \"1 Chronicles\": 29,\n",
    "    \"2 Chronicles\": 36,\n",
    "    \"Ezra\": 10,\n",
    "    \"Nehemiah\": 13,\n",
    "    \"Esther\": 10,\n",
    "    \"Job\": 42,\n",
    "    \"Psalms\": 150,\n",
    "    \"Proverbs\": 31,\n",
    "    \"Ecclesiastes\": 12,\n",
    "    \"Song of Solomon\": 8,\n",
    "    \"Isaiah\": 66,\n",
    "    \"Jeremiah\": 52,\n",
    "    \"Lamentations\": 5,\n",
    "    \"Ezekiel\": 48,\n",
    "    \"Daniel\": 12,\n",
    "    \"Hosea\": 14,\n",
    "    \"Joel\": 3,\n",
    "    \"Amos\": 9,\n",
    "    \"Obadiah\": 1,\n",
    "    \"Jonah\": 4,\n",
    "    \"Micah\": 7,\n",
    "    \"Nahum\": 3,\n",
    "    \"Habakkuk\": 3,\n",
    "    \"Zephaniah\": 3,\n",
    "    \"Haggai\": 2,\n",
    "    \"Zechariah\": 14,\n",
    "    \"Malachi\": 4,\n",
    "    \"Matthew\": 28,\n",
    "    \"Mark\": 16,\n",
    "    \"Luke\": 24,\n",
    "    \"John\": 21,\n",
    "    \"Acts\": 28,\n",
    "    \"Romans\": 16,\n",
    "    \"1 Corinthians\": 16,\n",
    "    \"2 Corinthians\": 13,\n",
    "    \"Galatians\": 6,\n",
    "    \"Ephesians\": 6,\n",
    "    \"Philippians\": 4,\n",
    "    \"Colossians\": 4,\n",
    "    \"1 Thessalonians\": 5,\n",
    "    \"2 Thessalonians\": 3,\n",
    "    \"1 Timothy\": 6,\n",
    "    \"2 Timothy\": 4,\n",
    "    \"Titus\": 3,\n",
    "    \"Philemon\": 1,\n",
    "    \"Hebrews\": 13,\n",
    "    \"James\": 5,\n",
    "    \"1 Peter\": 5,\n",
    "    \"2 Peter\": 3,\n",
    "    \"1 John\": 5,\n",
    "    \"2 John\": 1,\n",
    "    \"3 John\": 1,\n",
    "    \"Jude\": 1,\n",
    "    \"Revelation\": 22\n",
    "}\n",
    "\n",
    "# Get the WEB (World English Bible) translation\n",
    "# Change to 'esv' or 'niv' if needed\n",
    "version = \"web\"\n",
    "\n",
    "# API base URL for a modern translation (e.g., ESV or NIV)\n",
    "base_url = \"https://bible-api.com/\"\n",
    "\n",
    "# File name to save results\n",
    "csv_filename = \"data/web.csv\"\n",
    "\n",
    "# Open CSV for writing\n",
    "with open(csv_filename, mode=\"w\", newline=\"\", encoding=\"utf-8\") as file:\n",
    "    writer = csv.writer(file)\n",
    "    writer.writerow([\"book\", \"chapter\", \"verse\", \"modern_text\"])\n",
    "\n",
    "    # Initialize progress bar\n",
    "    total_chapters = sum(books_of_bible.values())\n",
    "    with tqdm(total=total_chapters, desc=\"Processing Bible Chapters\", unit=\"chapter\") as pbar:\n",
    "        # Loop through books and chapters\n",
    "        for book, num_chapters in books_of_bible.items():\n",
    "            for chapter in range(1, num_chapters + 1):\n",
    "                url = f\"{base_url}{book}+{chapter}?translation={version}\"\n",
    "\n",
    "                response = requests.get(url)\n",
    "                if response.status_code == 200:\n",
    "                    data = response.json()\n",
    "                    for verse in data[\"verses\"]:\n",
    "                        # Clean up the text by removing extra spaces and newlines\n",
    "                        cleaned_text = \" \".join(verse[\"text\"].split())\n",
    "                        writer.writerow([book, verse[\"chapter\"], verse[\"verse\"], cleaned_text])\n",
    "                pbar.update(1)\n",
    "\n",
    "print(f\"🎉 Done! Saved modern translation to {csv_filename}\")"
   ]
  },
  {
   "cell_type": "code",
   "execution_count": 2,
   "metadata": {},
   "outputs": [
    {
     "name": "stdout",
     "output_type": "stream",
     "text": [
      "✅ Merged dataset saved as modern_to_kjv.csv!\n"
     ]
    }
   ],
   "source": [
    "import pandas as pd\n",
    "\n",
    "# Load KJV and modern translations\n",
    "kjv_df = pd.read_csv(\"data/kjv.csv\")\n",
    "modern_df = pd.read_csv(\"data/web.csv\")\n",
    "\n",
    "# Merge by book, chapter, and verse\n",
    "merged_df = pd.merge(kjv_df, modern_df, on=[\"book\", \"chapter\", \"verse\"], suffixes=(\"_kjv\", \"_modern\"))\n",
    "\n",
    "# Select columns for training\n",
    "merged_df = merged_df[[\"modern_text\", \"text\"]]\n",
    "merged_df.columns = [\"modern_text\", \"kjv_text\"]\n",
    "\n",
    "merged_df.to_csv(\"data/web_to_kjv.csv\", index=False)\n",
    "\n",
    "print(\"✅ Merged dataset saved as modern_to_kjv.csv!\")"
   ]
  }
 ],
 "metadata": {
  "kernelspec": {
   "display_name": "venv",
   "language": "python",
   "name": "python3"
  },
  "language_info": {
   "codemirror_mode": {
    "name": "ipython",
    "version": 3
   },
   "file_extension": ".py",
   "mimetype": "text/x-python",
   "name": "python",
   "nbconvert_exporter": "python",
   "pygments_lexer": "ipython3",
   "version": "3.11.11"
  }
 },
 "nbformat": 4,
 "nbformat_minor": 2
}
